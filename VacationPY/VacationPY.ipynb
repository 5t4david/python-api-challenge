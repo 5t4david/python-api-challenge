{
 "cells": [
  {
   "cell_type": "code",
   "execution_count": 1,
   "metadata": {},
   "outputs": [],
   "source": [
    "import pandas as pd\n",
    "import os\n",
    "import csv\n",
    "from api_keys import g_key\n",
    "import requests\n",
    "import json"
   ]
  },
  {
   "cell_type": "code",
   "execution_count": 2,
   "metadata": {},
   "outputs": [],
   "source": [
    "csvpath = os.path.join('..', 'Resources', 'cities_and_weather.csv')\n",
    "with open(csvpath) as csvfile:\n",
    "    csvreader = csv.reader(csvfile, delimiter=',')\n",
    "    for row in csvreader:\n",
    "        cities_weather = pd.DataFrame(csvreader)"
   ]
  },
  {
   "cell_type": "code",
   "execution_count": 3,
   "metadata": {},
   "outputs": [],
   "source": [
    "cities_weather = cities_weather.drop(cities_weather[[0]], axis=1)"
   ]
  },
  {
   "cell_type": "code",
   "execution_count": 4,
   "metadata": {},
   "outputs": [],
   "source": [
    "cities_weather.columns = [\"Cities\",\"Country\",\"Latitude\",\"Longitude\",\"Temperature (F)\",\n",
    "                                                       \"Humidity (%)\", \"Cloudiness (%)\", \"Wind Speed (mph)\"]"
   ]
  },
  {
   "cell_type": "code",
   "execution_count": 5,
   "metadata": {},
   "outputs": [
    {
     "data": {
      "text/html": [
       "<div>\n",
       "<style scoped>\n",
       "    .dataframe tbody tr th:only-of-type {\n",
       "        vertical-align: middle;\n",
       "    }\n",
       "\n",
       "    .dataframe tbody tr th {\n",
       "        vertical-align: top;\n",
       "    }\n",
       "\n",
       "    .dataframe thead th {\n",
       "        text-align: right;\n",
       "    }\n",
       "</style>\n",
       "<table border=\"1\" class=\"dataframe\">\n",
       "  <thead>\n",
       "    <tr style=\"text-align: right;\">\n",
       "      <th></th>\n",
       "      <th>Cities</th>\n",
       "      <th>Country</th>\n",
       "      <th>Latitude</th>\n",
       "      <th>Longitude</th>\n",
       "      <th>Temperature (F)</th>\n",
       "      <th>Humidity (%)</th>\n",
       "      <th>Cloudiness (%)</th>\n",
       "      <th>Wind Speed (mph)</th>\n",
       "    </tr>\n",
       "  </thead>\n",
       "  <tbody>\n",
       "    <tr>\n",
       "      <th>0</th>\n",
       "      <td>puerto ayora</td>\n",
       "      <td>ec</td>\n",
       "      <td>-0.7393</td>\n",
       "      <td>-90.3518</td>\n",
       "      <td>71.55</td>\n",
       "      <td>86</td>\n",
       "      <td>97</td>\n",
       "      <td>8.01</td>\n",
       "    </tr>\n",
       "    <tr>\n",
       "      <th>1</th>\n",
       "      <td>ushuaia</td>\n",
       "      <td>ar</td>\n",
       "      <td>-54.8</td>\n",
       "      <td>-68.3</td>\n",
       "      <td>37.06</td>\n",
       "      <td>75</td>\n",
       "      <td>40</td>\n",
       "      <td>17.27</td>\n",
       "    </tr>\n",
       "    <tr>\n",
       "      <th>2</th>\n",
       "      <td>bathsheba</td>\n",
       "      <td>bb</td>\n",
       "      <td>13.2167</td>\n",
       "      <td>-59.5167</td>\n",
       "      <td>77.61</td>\n",
       "      <td>88</td>\n",
       "      <td>75</td>\n",
       "      <td>25.32</td>\n",
       "    </tr>\n",
       "    <tr>\n",
       "      <th>3</th>\n",
       "      <td>tasiilaq</td>\n",
       "      <td>gl</td>\n",
       "      <td>65.6145</td>\n",
       "      <td>-37.6368</td>\n",
       "      <td>41.77</td>\n",
       "      <td>83</td>\n",
       "      <td>43</td>\n",
       "      <td>3.2</td>\n",
       "    </tr>\n",
       "    <tr>\n",
       "      <th>4</th>\n",
       "      <td>khuzhir</td>\n",
       "      <td>ru</td>\n",
       "      <td>53.1939</td>\n",
       "      <td>107.3397</td>\n",
       "      <td>53.98</td>\n",
       "      <td>80</td>\n",
       "      <td>75</td>\n",
       "      <td>7.61</td>\n",
       "    </tr>\n",
       "  </tbody>\n",
       "</table>\n",
       "</div>"
      ],
      "text/plain": [
       "         Cities Country Latitude Longitude Temperature (F) Humidity (%)  \\\n",
       "0  puerto ayora      ec  -0.7393  -90.3518           71.55           86   \n",
       "1       ushuaia      ar    -54.8     -68.3           37.06           75   \n",
       "2     bathsheba      bb  13.2167  -59.5167           77.61           88   \n",
       "3      tasiilaq      gl  65.6145  -37.6368           41.77           83   \n",
       "4       khuzhir      ru  53.1939  107.3397           53.98           80   \n",
       "\n",
       "  Cloudiness (%) Wind Speed (mph)  \n",
       "0             97             8.01  \n",
       "1             40            17.27  \n",
       "2             75            25.32  \n",
       "3             43              3.2  \n",
       "4             75             7.61  "
      ]
     },
     "execution_count": 5,
     "metadata": {},
     "output_type": "execute_result"
    }
   ],
   "source": [
    "cities_weather.head()"
   ]
  },
  {
   "cell_type": "code",
   "execution_count": 6,
   "metadata": {},
   "outputs": [
    {
     "data": {
      "text/plain": [
       "Cities              object\n",
       "Country             object\n",
       "Latitude            object\n",
       "Longitude           object\n",
       "Temperature (F)     object\n",
       "Humidity (%)        object\n",
       "Cloudiness (%)      object\n",
       "Wind Speed (mph)    object\n",
       "dtype: object"
      ]
     },
     "execution_count": 6,
     "metadata": {},
     "output_type": "execute_result"
    }
   ],
   "source": [
    "cities_weather.dtypes"
   ]
  },
  {
   "cell_type": "code",
   "execution_count": 7,
   "metadata": {},
   "outputs": [],
   "source": [
    "cities_weather['Latitude'] = pd.to_numeric(cities_weather['Latitude'])\n",
    "cities_weather['Longitude'] = pd.to_numeric(cities_weather['Longitude'])\n",
    "cities_weather['Temperature (F)'] = pd.to_numeric(cities_weather['Temperature (F)'])\n",
    "cities_weather['Humidity (%)'] = pd.to_numeric(cities_weather['Humidity (%)'])\n",
    "cities_weather['Cloudiness (%)'] = pd.to_numeric(cities_weather['Cloudiness (%)'])\n",
    "cities_weather['Wind Speed (mph)'] = pd.to_numeric(cities_weather['Wind Speed (mph)'])"
   ]
  },
  {
   "cell_type": "code",
   "execution_count": 8,
   "metadata": {},
   "outputs": [],
   "source": [
    "import gmaps\n",
    "gmaps.configure(api_key=g_key)\n",
    "locations = cities_weather[[\"Latitude\", \"Longitude\"]].astype(float)\n",
    "humidity = cities_weather['Humidity (%)'].astype(float)"
   ]
  },
  {
   "cell_type": "code",
   "execution_count": 9,
   "metadata": {},
   "outputs": [
    {
     "data": {
      "application/vnd.jupyter.widget-view+json": {
       "model_id": "dc8815fa6ea244b4aadd90ca82a05812",
       "version_major": 2,
       "version_minor": 0
      },
      "text/plain": [
       "Figure(layout=FigureLayout(height='420px'))"
      ]
     },
     "metadata": {},
     "output_type": "display_data"
    }
   ],
   "source": [
    "fig = gmaps.figure(zoom_level = 1, center = (40.1429,-5.1102))\n",
    "heat_layer = gmaps.heatmap_layer(locations, weights = humidity, \n",
    "                                 dissipating=False, max_intensity=100, point_radius = 2.4,)\n",
    "fig.add_layer(heat_layer)\n",
    "fig"
   ]
  },
  {
   "cell_type": "code",
   "execution_count": 10,
   "metadata": {},
   "outputs": [],
   "source": [
    "vacation_spot = cities_weather[(cities_weather['Humidity (%)'] < 80) & (cities_weather['Humidity (%)'] > 70)]\n",
    "vacation_spot = vacation_spot[vacation_spot['Wind Speed (mph)'] < 10]\n",
    "vacation_spot = vacation_spot[vacation_spot['Cloudiness (%)'] < 1 ]                             "
   ]
  },
  {
   "cell_type": "code",
   "execution_count": 11,
   "metadata": {},
   "outputs": [
    {
     "data": {
      "text/html": [
       "<div>\n",
       "<style scoped>\n",
       "    .dataframe tbody tr th:only-of-type {\n",
       "        vertical-align: middle;\n",
       "    }\n",
       "\n",
       "    .dataframe tbody tr th {\n",
       "        vertical-align: top;\n",
       "    }\n",
       "\n",
       "    .dataframe thead th {\n",
       "        text-align: right;\n",
       "    }\n",
       "</style>\n",
       "<table border=\"1\" class=\"dataframe\">\n",
       "  <thead>\n",
       "    <tr style=\"text-align: right;\">\n",
       "      <th></th>\n",
       "      <th>Cities</th>\n",
       "      <th>Country</th>\n",
       "      <th>Latitude</th>\n",
       "      <th>Longitude</th>\n",
       "      <th>Temperature (F)</th>\n",
       "      <th>Humidity (%)</th>\n",
       "      <th>Cloudiness (%)</th>\n",
       "      <th>Wind Speed (mph)</th>\n",
       "    </tr>\n",
       "  </thead>\n",
       "  <tbody>\n",
       "    <tr>\n",
       "      <th>72</th>\n",
       "      <td>rio gallegos</td>\n",
       "      <td>ar</td>\n",
       "      <td>-51.6226</td>\n",
       "      <td>-69.2181</td>\n",
       "      <td>33.85</td>\n",
       "      <td>75</td>\n",
       "      <td>0</td>\n",
       "      <td>6.91</td>\n",
       "    </tr>\n",
       "    <tr>\n",
       "      <th>226</th>\n",
       "      <td>petropavlovsk-kamchatskiy</td>\n",
       "      <td>ru</td>\n",
       "      <td>53.0452</td>\n",
       "      <td>158.6483</td>\n",
       "      <td>68.59</td>\n",
       "      <td>73</td>\n",
       "      <td>0</td>\n",
       "      <td>6.71</td>\n",
       "    </tr>\n",
       "    <tr>\n",
       "      <th>254</th>\n",
       "      <td>alexandria</td>\n",
       "      <td>eg</td>\n",
       "      <td>31.2156</td>\n",
       "      <td>29.9553</td>\n",
       "      <td>78.82</td>\n",
       "      <td>76</td>\n",
       "      <td>0</td>\n",
       "      <td>9.46</td>\n",
       "    </tr>\n",
       "    <tr>\n",
       "      <th>321</th>\n",
       "      <td>kruisfontein</td>\n",
       "      <td>za</td>\n",
       "      <td>-34.0033</td>\n",
       "      <td>24.7314</td>\n",
       "      <td>50.77</td>\n",
       "      <td>71</td>\n",
       "      <td>0</td>\n",
       "      <td>6.15</td>\n",
       "    </tr>\n",
       "    <tr>\n",
       "      <th>446</th>\n",
       "      <td>provideniya</td>\n",
       "      <td>ru</td>\n",
       "      <td>64.3833</td>\n",
       "      <td>-173.3000</td>\n",
       "      <td>50.11</td>\n",
       "      <td>76</td>\n",
       "      <td>0</td>\n",
       "      <td>4.47</td>\n",
       "    </tr>\n",
       "    <tr>\n",
       "      <th>615</th>\n",
       "      <td>caravelas</td>\n",
       "      <td>br</td>\n",
       "      <td>-17.7125</td>\n",
       "      <td>-39.2481</td>\n",
       "      <td>71.62</td>\n",
       "      <td>79</td>\n",
       "      <td>0</td>\n",
       "      <td>9.26</td>\n",
       "    </tr>\n",
       "  </tbody>\n",
       "</table>\n",
       "</div>"
      ],
      "text/plain": [
       "                        Cities Country  Latitude  Longitude  Temperature (F)  \\\n",
       "72                rio gallegos      ar  -51.6226   -69.2181            33.85   \n",
       "226  petropavlovsk-kamchatskiy      ru   53.0452   158.6483            68.59   \n",
       "254                 alexandria      eg   31.2156    29.9553            78.82   \n",
       "321               kruisfontein      za  -34.0033    24.7314            50.77   \n",
       "446                provideniya      ru   64.3833  -173.3000            50.11   \n",
       "615                  caravelas      br  -17.7125   -39.2481            71.62   \n",
       "\n",
       "     Humidity (%)  Cloudiness (%)  Wind Speed (mph)  \n",
       "72             75               0              6.91  \n",
       "226            73               0              6.71  \n",
       "254            76               0              9.46  \n",
       "321            71               0              6.15  \n",
       "446            76               0              4.47  \n",
       "615            79               0              9.26  "
      ]
     },
     "execution_count": 11,
     "metadata": {},
     "output_type": "execute_result"
    }
   ],
   "source": [
    "vacation_spot"
   ]
  },
  {
   "cell_type": "code",
   "execution_count": 12,
   "metadata": {},
   "outputs": [
    {
     "name": "stdout",
     "output_type": "stream",
     "text": [
      "Missing field/result... skipping.\n"
     ]
    }
   ],
   "source": [
    "# params dictionary to update each iteration\n",
    "params = {\n",
    "    \"radius\": 50000,\n",
    "    \"types\": \"hotel\",\n",
    "    \"keyword\": \"hotel\",\n",
    "    \"key\": g_key\n",
    "}\n",
    "for index, row in vacation_spot.iterrows():\n",
    "    lat = row[\"Latitude\"]\n",
    "    lng = row[\"Longitude\"]\n",
    "\n",
    "    # change location each iteration while leaving original params in place\n",
    "    params[\"location\"] = f\"{lat},{lng}\"\n",
    "    base_url = \"https://maps.googleapis.com/maps/api/place/nearbysearch/json\"\n",
    "    # make request and print url\n",
    "    hotel_name = requests.get(base_url, params=params)\n",
    "    # convert to json\n",
    "    hotel_name = hotel_name.json()\n",
    "   # Since some data may be missing we incorporate a try-except to skip any that are missing a data point.\n",
    "    try:\n",
    "        vacation_spot.loc[index, \"Hotel Name\"] = hotel_name[\"results\"][0][\"name\"]\n",
    "    except (KeyError, IndexError):\n",
    "        print(\"Missing field/result... skipping.\")"
   ]
  },
  {
   "cell_type": "code",
   "execution_count": 13,
   "metadata": {},
   "outputs": [],
   "source": [
    "vacation_spot = vacation_spot.reset_index(drop=True)"
   ]
  },
  {
   "cell_type": "code",
   "execution_count": 14,
   "metadata": {},
   "outputs": [
    {
     "data": {
      "text/html": [
       "<div>\n",
       "<style scoped>\n",
       "    .dataframe tbody tr th:only-of-type {\n",
       "        vertical-align: middle;\n",
       "    }\n",
       "\n",
       "    .dataframe tbody tr th {\n",
       "        vertical-align: top;\n",
       "    }\n",
       "\n",
       "    .dataframe thead th {\n",
       "        text-align: right;\n",
       "    }\n",
       "</style>\n",
       "<table border=\"1\" class=\"dataframe\">\n",
       "  <thead>\n",
       "    <tr style=\"text-align: right;\">\n",
       "      <th></th>\n",
       "      <th>Cities</th>\n",
       "      <th>Country</th>\n",
       "      <th>Latitude</th>\n",
       "      <th>Longitude</th>\n",
       "      <th>Temperature (F)</th>\n",
       "      <th>Humidity (%)</th>\n",
       "      <th>Cloudiness (%)</th>\n",
       "      <th>Wind Speed (mph)</th>\n",
       "      <th>Hotel Name</th>\n",
       "    </tr>\n",
       "  </thead>\n",
       "  <tbody>\n",
       "    <tr>\n",
       "      <th>0</th>\n",
       "      <td>rio gallegos</td>\n",
       "      <td>ar</td>\n",
       "      <td>-51.6226</td>\n",
       "      <td>-69.2181</td>\n",
       "      <td>33.85</td>\n",
       "      <td>75</td>\n",
       "      <td>0</td>\n",
       "      <td>6.91</td>\n",
       "      <td>Apart Hotel Austral</td>\n",
       "    </tr>\n",
       "    <tr>\n",
       "      <th>1</th>\n",
       "      <td>petropavlovsk-kamchatskiy</td>\n",
       "      <td>ru</td>\n",
       "      <td>53.0452</td>\n",
       "      <td>158.6483</td>\n",
       "      <td>68.59</td>\n",
       "      <td>73</td>\n",
       "      <td>0</td>\n",
       "      <td>6.71</td>\n",
       "      <td>Tri Lyzhi</td>\n",
       "    </tr>\n",
       "    <tr>\n",
       "      <th>2</th>\n",
       "      <td>alexandria</td>\n",
       "      <td>eg</td>\n",
       "      <td>31.2156</td>\n",
       "      <td>29.9553</td>\n",
       "      <td>78.82</td>\n",
       "      <td>76</td>\n",
       "      <td>0</td>\n",
       "      <td>9.46</td>\n",
       "      <td>Borg El Arab Beach Hotel</td>\n",
       "    </tr>\n",
       "    <tr>\n",
       "      <th>3</th>\n",
       "      <td>kruisfontein</td>\n",
       "      <td>za</td>\n",
       "      <td>-34.0033</td>\n",
       "      <td>24.7314</td>\n",
       "      <td>50.77</td>\n",
       "      <td>71</td>\n",
       "      <td>0</td>\n",
       "      <td>6.15</td>\n",
       "      <td>The Sands @ St. Francis Bay</td>\n",
       "    </tr>\n",
       "    <tr>\n",
       "      <th>5</th>\n",
       "      <td>caravelas</td>\n",
       "      <td>br</td>\n",
       "      <td>-17.7125</td>\n",
       "      <td>-39.2481</td>\n",
       "      <td>71.62</td>\n",
       "      <td>79</td>\n",
       "      <td>0</td>\n",
       "      <td>9.26</td>\n",
       "      <td>Lord Pousada &amp; Restaurante</td>\n",
       "    </tr>\n",
       "  </tbody>\n",
       "</table>\n",
       "</div>"
      ],
      "text/plain": [
       "                      Cities Country  Latitude  Longitude  Temperature (F)  \\\n",
       "0               rio gallegos      ar  -51.6226   -69.2181            33.85   \n",
       "1  petropavlovsk-kamchatskiy      ru   53.0452   158.6483            68.59   \n",
       "2                 alexandria      eg   31.2156    29.9553            78.82   \n",
       "3               kruisfontein      za  -34.0033    24.7314            50.77   \n",
       "5                  caravelas      br  -17.7125   -39.2481            71.62   \n",
       "\n",
       "   Humidity (%)  Cloudiness (%)  Wind Speed (mph)                   Hotel Name  \n",
       "0            75               0              6.91          Apart Hotel Austral  \n",
       "1            73               0              6.71                    Tri Lyzhi  \n",
       "2            76               0              9.46     Borg El Arab Beach Hotel  \n",
       "3            71               0              6.15  The Sands @ St. Francis Bay  \n",
       "5            79               0              9.26   Lord Pousada & Restaurante  "
      ]
     },
     "execution_count": 14,
     "metadata": {},
     "output_type": "execute_result"
    }
   ],
   "source": [
    "vacation_spot = (vacation_spot.dropna())\n",
    "vacation_spot"
   ]
  },
  {
   "cell_type": "code",
   "execution_count": 15,
   "metadata": {},
   "outputs": [],
   "source": [
    "info_box_template = \"\"\"\n",
    "<dl>\n",
    "<dt>Name</dt><dd>{Hotel Name}</dd>\n",
    "<dt>City</dt><dd>{Cities}</dd>\n",
    "<dt>Country</dt><dd>{Country}</dd>\n",
    "</dl>\n",
    "\"\"\"\n",
    "hotel_info = [info_box_template.format(**row) for index, row in vacation_spot.iterrows()]\n",
    "location = vacation_spot[['Latitude', 'Longitude']]"
   ]
  },
  {
   "cell_type": "code",
   "execution_count": 17,
   "metadata": {},
   "outputs": [
    {
     "data": {
      "application/vnd.jupyter.widget-view+json": {
       "model_id": "dc8815fa6ea244b4aadd90ca82a05812",
       "version_major": 2,
       "version_minor": 0
      },
      "text/plain": [
       "Figure(layout=FigureLayout(height='420px'))"
      ]
     },
     "metadata": {},
     "output_type": "display_data"
    }
   ],
   "source": [
    "marker = gmaps.marker_layer(location, info_box_content =  hotel_info)\n",
    "fig.add_layer(marker)\n",
    "fig"
   ]
  },
  {
   "cell_type": "code",
   "execution_count": null,
   "metadata": {},
   "outputs": [],
   "source": []
  }
 ],
 "metadata": {
  "kernelspec": {
   "display_name": "Python 3",
   "language": "python",
   "name": "python3"
  },
  "language_info": {
   "codemirror_mode": {
    "name": "ipython",
    "version": 3
   },
   "file_extension": ".py",
   "mimetype": "text/x-python",
   "name": "python",
   "nbconvert_exporter": "python",
   "pygments_lexer": "ipython3",
   "version": "3.8.5"
  }
 },
 "nbformat": 4,
 "nbformat_minor": 4
}
